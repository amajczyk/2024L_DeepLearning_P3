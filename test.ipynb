{
 "cells": [
  {
   "cell_type": "code",
   "execution_count": 2,
   "metadata": {},
   "outputs": [],
   "source": [
    "import os\n",
    "import json"
   ]
  },
  {
   "cell_type": "code",
   "execution_count": 7,
   "metadata": {},
   "outputs": [],
   "source": [
    "results_path = 'models/ddpm/hypers/0.0025'\n",
    "folders = sorted(os.listdir(results_path))\n",
    "\n",
    "# get metadata.json from each folder\n",
    "metadata = []\n",
    "for folder in folders:\n",
    "    lr = float(folder.split('-')[2])\n",
    "    with open(os.path.join(results_path, folder, 'metadata.json'), 'r') as f:\n",
    "        metadata = json.load(f)\n",
    "    metadata['LEARNING_RATE'] = lr\n",
    "    # save metadata\n",
    "    with open(os.path.join(results_path, folder, 'metadata.json'), 'w') as f:\n",
    "        json.dump(metadata, f, indent=4)"
   ]
  },
  {
   "cell_type": "code",
   "execution_count": null,
   "metadata": {},
   "outputs": [],
   "source": []
  }
 ],
 "metadata": {
  "kernelspec": {
   "display_name": "torchenv",
   "language": "python",
   "name": "python3"
  },
  "language_info": {
   "codemirror_mode": {
    "name": "ipython",
    "version": 3
   },
   "file_extension": ".py",
   "mimetype": "text/x-python",
   "name": "python",
   "nbconvert_exporter": "python",
   "pygments_lexer": "ipython3",
   "version": "3.11.6"
  }
 },
 "nbformat": 4,
 "nbformat_minor": 2
}

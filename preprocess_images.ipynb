{
 "cells": [
  {
   "cell_type": "code",
   "execution_count": 2,
   "metadata": {},
   "outputs": [],
   "source": [
    "import os\n",
    "from tqdm.notebook import tqdm\n",
    "from PIL import Image\n"
   ]
  },
  {
   "cell_type": "code",
   "execution_count": 3,
   "metadata": {},
   "outputs": [],
   "source": [
    "# list all files in data/flatten\n",
    "def list_files(dir = 'data/flatten'):\n",
    "    files = os.listdir(dir)\n",
    "    return files\n",
    "\n",
    "files = list_files()"
   ]
  },
  {
   "cell_type": "code",
   "execution_count": 9,
   "metadata": {},
   "outputs": [],
   "source": [
    "# funtion to pad the picture with white space to make it square\n",
    "def pad_image(image):\n",
    "    # get the size of the image\n",
    "    width, height = image.size\n",
    "    # calculate the size of the new image\n",
    "    new_size = max(width, height)\n",
    "    # create a new image with the new size and white background\n",
    "    new_image = Image.new(\"RGB\", (new_size, new_size), (255, 255, 255))\n",
    "    # paste the original image in the center\n",
    "    new_image.paste(image, ((new_size - width) // 2, (new_size - height) // 2))\n",
    "    return new_image\n",
    "\n",
    "# function to resize the image to a square of n x n pixels\n",
    "def resize_image(image, size):\n",
    "    # resize the image to the new size\n",
    "    new_image = image.resize((size, size))\n",
    "    return new_image\n",
    "\n",
    "def center_crop_to_square(image):\n",
    "    width, height = image.size\n",
    "    new_size = min(width, height)\n",
    "    left = (width - new_size) // 2\n",
    "    top = (height - new_size) // 2\n",
    "    right = (width + new_size) // 2\n",
    "    bottom = (height + new_size) // 2\n",
    "    new_image = image.crop((left, top, right, bottom))\n",
    "    return new_image\n",
    "\n",
    "import random\n",
    "def random_center_crop_to_square(image):\n",
    "    width, height = image.size\n",
    "    new_size = min(width, height)\n",
    "    left = random.randint(0, width - new_size)\n",
    "    top = random.randint(0, height - new_size)\n",
    "    right = left + new_size\n",
    "    bottom = top + new_size\n",
    "    new_image = image.crop((left, top, right, bottom))\n",
    "    return new_image\n",
    "\n",
    "def apply_one_squaring_method(image):\n",
    "    # check size of the image\n",
    "    width, height = image.size\n",
    "    # if the image is already square, return it\n",
    "    if width == height:\n",
    "        return image\n",
    "    methods = [pad_image, center_crop_to_square, random_center_crop_to_square]\n",
    "    method = random.choice(methods)\n",
    "    return method(image)\n",
    "\n"
   ]
  },
  {
   "cell_type": "code",
   "execution_count": 4,
   "metadata": {},
   "outputs": [
    {
     "data": {
      "application/vnd.jupyter.widget-view+json": {
       "model_id": "782b10fddf484937bb9937b713d80a12",
       "version_major": 2,
       "version_minor": 0
      },
      "text/plain": [
       "  0%|          | 0/303125 [00:00<?, ?it/s]"
      ]
     },
     "metadata": {},
     "output_type": "display_data"
    }
   ],
   "source": [
    "for file in tqdm(files):\n",
    "    image = Image.open('data/flatten/' + file)\n",
    "    image = apply_one_squaring_method(image)\n",
    "    image.save('data/square/' + file)\n"
   ]
  },
  {
   "cell_type": "code",
   "execution_count": 10,
   "metadata": {},
   "outputs": [
    {
     "data": {
      "application/vnd.jupyter.widget-view+json": {
       "model_id": "c9b389c6b4f543e293a0b1dae0cb19ee",
       "version_major": 2,
       "version_minor": 0
      },
      "text/plain": [
       "  0%|          | 0/303125 [00:00<?, ?it/s]"
      ]
     },
     "metadata": {},
     "output_type": "display_data"
    }
   ],
   "source": [
    "# make 256x256 and 128x128 and 64x64 versions\n",
    "for file in tqdm(files):\n",
    "    image = Image.open('data/square/' + file)\n",
    "    image256 = resize_image(image, 256)\n",
    "    image256.save('data/square256/' + file)\n",
    "    image128 = resize_image(image, 128)\n",
    "    image128.save('data/square128/' + file)\n",
    "    image64 = resize_image(image, 64)\n",
    "    image64.save('data/square64/' + file)"
   ]
  },
  {
   "cell_type": "code",
   "execution_count": 5,
   "metadata": {},
   "outputs": [
    {
     "data": {
      "application/vnd.jupyter.widget-view+json": {
       "model_id": "ebd7a205691644bbba4498e8bc8267f7",
       "version_major": 2,
       "version_minor": 0
      },
      "text/plain": [
       "  0%|          | 0/1515 [00:00<?, ?it/s]"
      ]
     },
     "metadata": {},
     "output_type": "display_data"
    },
    {
     "data": {
      "application/vnd.jupyter.widget-view+json": {
       "model_id": "5602afb7011847b5bf7340c9360f132f",
       "version_major": 2,
       "version_minor": 0
      },
      "text/plain": [
       "  0%|          | 0/1515 [00:00<?, ?it/s]"
      ]
     },
     "metadata": {},
     "output_type": "display_data"
    },
    {
     "data": {
      "application/vnd.jupyter.widget-view+json": {
       "model_id": "03051fc393dc4816a5167d213ea787ce",
       "version_major": 2,
       "version_minor": 0
      },
      "text/plain": [
       "  0%|          | 0/1515 [00:00<?, ?it/s]"
      ]
     },
     "metadata": {},
     "output_type": "display_data"
    }
   ],
   "source": [
    "import random\n",
    "# make 10, 25% random crops of the 256x256, 128x128 and 64x64 versions\n",
    "def random_choice(images_list, percentage, seed=42):\n",
    "    random.seed(seed)\n",
    "    n = len(images_list)\n",
    "    n_images = int(n * percentage)\n",
    "    return random.sample(images_list, n_images)\n",
    "\n",
    "for percentage in [\n",
    "    0.005, 0.1, 0.25\n",
    "    ]:\n",
    "    for size in [64, 128, 256]:\n",
    "        files = list_files('data/square' + str(size))\n",
    "        short_files = random_choice(files, percentage, seed=42)\n",
    "        for file in tqdm(short_files):\n",
    "            image = Image.open('data/square' + str(size) + '/' + file)\n",
    "            if os.path.exists(f'data/square' + str(size) + f'_random{percentage}/') == False:\n",
    "                os.mkdir(f'data/square' + str(size) + f'_random{percentage}/')\n",
    "            image.save(f'data/square' + str(size) + f'_random{percentage}/' + file)"
   ]
  }
 ],
 "metadata": {
  "kernelspec": {
   "display_name": "torchenv",
   "language": "python",
   "name": "python3"
  },
  "language_info": {
   "codemirror_mode": {
    "name": "ipython",
    "version": 3
   },
   "file_extension": ".py",
   "mimetype": "text/x-python",
   "name": "python",
   "nbconvert_exporter": "python",
   "pygments_lexer": "ipython3",
   "version": "3.9.19"
  }
 },
 "nbformat": 4,
 "nbformat_minor": 2
}
